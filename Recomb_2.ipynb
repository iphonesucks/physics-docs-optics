{
 "cells": [
  {
   "cell_type": "code",
   "execution_count": null,
   "metadata": {},
   "outputs": [],
   "source": [
    "import numpy as np\n",
    "import matplotlib.pyplot as plt\n",
    "\n",
    "%matplotlib inline "
   ]
  },
  {
   "cell_type": "code",
   "execution_count": null,
   "metadata": {},
   "outputs": [],
   "source": [
    "# a.u. are used\n",
    "def psi_b(r, t): # r is supposed to be a vector [x,y,z,m]\n",
    "    beta = 1\n",
    "    Eb = - 0.5\n",
    "    psi = np.sqrt(beta**(1/3))/np.pi * \\\n",
    "          np.multiply(\n",
    "              np.exp(-beta*r).reshape(r.shape[0],1), \\\n",
    "              np.exp(-1j*Eb*t).reshape(1,t.shape[0]))\n",
    "    #print(np.exp(-beta*r).shape*np.exp(-1j*Eb*t).shape)\n",
    "    return psi"
   ]
  },
  {
   "cell_type": "code",
   "execution_count": null,
   "metadata": {},
   "outputs": [],
   "source": [
    "x = np.linspace(0,10,128)\n",
    "t = np.linspace(-10,10,128)\n",
    "print(psi_b(x,t).shape)\n",
    "#plt.plot(x,np.abs(psi_b(x,t)))\n",
    "#plt.plot(x, np.real(psi_b(x,t)))\n",
    "#plt.plot(x, np.imag(psi_b(x,t)))"
   ]
  },
  {
   "cell_type": "code",
   "execution_count": null,
   "metadata": {},
   "outputs": [],
   "source": [
    "# not ready yet\n",
    "def psi_b_plus(r,t):\n",
    "    Ep = 1 # ???\n",
    "    u_plus = 1 # ???\n",
    "    c = 0 #integration constant\n",
    "    a_0 = - e * A0 / wL # A0 should be a vectror\n",
    "    a_L = a_0*sin(wL*t) # or maybe it is worth to make it a function \n",
    "    \n",
    "    psi = np.exp(\n",
    "        -1j*Ep*t - \\\n",
    "        i*alpha_L(t)*p - \\\n",
    "        i/2/m * eL**2 * A0**2 *(t + sin(2*wL*t))/2 \\\n",
    "        + c) * \\\n",
    "    u_plus(r)\n",
    "    return psi"
   ]
  },
  {
   "cell_type": "code",
   "execution_count": 502,
   "metadata": {},
   "outputs": [],
   "source": [
    "#from scipy.special import hyp1f1\n",
    "from mpmath import hyp1f1, gamma\n",
    "from mpmath import exp as mp_exp \n",
    "from mpmath import matrix as mp_matrix"
   ]
  },
  {
   "cell_type": "code",
   "execution_count": 503,
   "metadata": {},
   "outputs": [],
   "source": [
    "#p = [1,2,-3j]\n",
    "#a = np.linalg.norm(p,2)\n",
    "def hyper_1F1(r,p): #input just 2 vectors not matrix \n",
    "    \"\"\"it is supposed to return float32 type, but returns mpf\"\"\"\n",
    "    \n",
    "    Z = 1\n",
    "    h_bar = 1\n",
    "    a0 = 1\n",
    "    eta_p = Z*h_bar/a0/np.linalg.norm(p,2, axis = 0) # is abs equal to norm?\n",
    "    #print(np.linalg.norm(p,2, axis = 0),p,p.shape,type(p))\n",
    "    \n",
    "    hyp1f1_fun = np.frompyfunc(hyp1f1, 3, 1) # vector, USAGE IS NOT CORRECT\n",
    "    #result = hyp1f1_fun(1, 1, np.array(z)) \n",
    "    hfun = hyp1f1_fun(\n",
    "        -1j*eta_p,\\\n",
    "        1,\\\n",
    "        -1j*(np.linalg.norm(p,2, axis = 0)*np.linalg.norm(r,2, axis = 0) + np.dot(p,r))/h_bar\n",
    "    )\n",
    "    #print(type(hfun))\n",
    "    return hfun"
   ]
  },
  {
   "cell_type": "code",
   "execution_count": 504,
   "metadata": {},
   "outputs": [
    {
     "name": "stdout",
     "output_type": "stream",
     "text": [
      "(0.723236263122129 + 0.434200878681639j)\n"
     ]
    }
   ],
   "source": [
    "#Test\n",
    "r = np.array([1, 2, 3])\n",
    "p = np.array([4, 5, 6])\n",
    "print(hyper_1F1(r,p))"
   ]
  },
  {
   "cell_type": "code",
   "execution_count": 505,
   "metadata": {},
   "outputs": [],
   "source": [
    "def matrix_hyper_1F1_p(r,p): # we have fixed p here, and go over r vectors\n",
    "    \n",
    "    \"\"\"think about loop removing\"\"\"\n",
    "    #hyp1f1_fun = np.frompyfunc(hyper_1F1, 2, 1)\n",
    "    #hfun = hyp1f1_fun(r, p)\n",
    "    values = mp_matrix(1,len(r))\n",
    "    \n",
    "    for i in range(len(r)):\n",
    "        hfun = hyper_1F1(r[i],p)\n",
    "        values[0,i] = hfun\n",
    "    return values"
   ]
  },
  {
   "cell_type": "code",
   "execution_count": 506,
   "metadata": {},
   "outputs": [
    {
     "name": "stdout",
     "output_type": "stream",
     "text": [
      "[(0.835061926636437 + 0.326741903074577j)  (0.800228898980005 + 0.405875072282826j)] (3,)\n"
     ]
    }
   ],
   "source": [
    "#Test\n",
    "r = np.array([[1, 2, 3], [7, 8, 9]])\n",
    "p = np.array([7, 8, 9])\n",
    "print(matrix_hyper_1F1_p(r,p), p.shape)"
   ]
  },
  {
   "cell_type": "code",
   "execution_count": 507,
   "metadata": {},
   "outputs": [
    {
     "data": {
      "text/plain": [
       "'hyp1f1_fun = np.frompyfunc(hyp1f1, 3, 1) # make vector input function \\nvalues = hyp1f1_fun(1, 1, np.array(z)) \\nZ = np.array(values.tolist(), dtype = np.float32) # convert mpf type to float32\\nprint(Z, type(Z))'"
      ]
     },
     "execution_count": 507,
     "metadata": {},
     "output_type": "execute_result"
    }
   ],
   "source": [
    "\"\"\"hyp1f1_fun = np.frompyfunc(hyp1f1, 3, 1) # make vector input function \n",
    "values = hyp1f1_fun(1, 1, np.array(z)) \n",
    "Z = np.array(values.tolist(), dtype = np.float32) # convert mpf type to float32\n",
    "print(Z, type(Z))\"\"\"\n"
   ]
  },
  {
   "cell_type": "code",
   "execution_count": 508,
   "metadata": {},
   "outputs": [],
   "source": [
    "def matrix_hyp1F1_px(r,p): # p is not fixed anymore\n",
    "    \"\"\"think about loop removing\"\"\"\n",
    "    #hyp1f1_fun = np.frompyfunc(hyper_1F1, 2, 1)\n",
    "    #hfun = hyp1f1_fun(r, p)\n",
    "    values = mp_matrix(len(p), len(r))\n",
    "    \n",
    "    for i in range(len(p)):\n",
    "        hfun = matrix_hyper_1F1_p(r,p[i])\n",
    "        values[i,:] = hfun\n",
    "    return values\n",
    "\n",
    "    # rows - p changes\n",
    "    # columns - r changes"
   ]
  },
  {
   "cell_type": "code",
   "execution_count": 509,
   "metadata": {},
   "outputs": [
    {
     "name": "stdout",
     "output_type": "stream",
     "text": [
      "[(0.723236263122129 + 0.434200878681639j)  (0.651149846811972 + 0.539129042554001j)]\n",
      "[(0.835061926636437 + 0.326741903074577j)  (0.800228898980005 + 0.405875072282826j)] (2, 3)\n"
     ]
    }
   ],
   "source": [
    "#Test\n",
    "r = np.array([[1, 2, 3], [7, 8, 9]])\n",
    "p = np.array([[4, 5, 6], [7, 8, 9]])\n",
    "print(matrix_hyp1F1_px(r,p), p.shape)"
   ]
  },
  {
   "cell_type": "code",
   "execution_count": 510,
   "metadata": {},
   "outputs": [],
   "source": [
    "def my_gamma(p):\n",
    "    Z = 1\n",
    "    h_bar = 1\n",
    "    a0 = 1\n",
    "    \n",
    "    my_gamma = np.frompyfunc(gamma, 1, 1) # vector\n",
    "    eta_p = Z*h_bar/a0/np.linalg.norm(p,2, axis = 1) # why does the other axis is used in hyperfunction?\n",
    "    values = my_gamma(1 + 1j*eta_p).tolist()\n",
    "    print(type(values))\n",
    "    return values"
   ]
  },
  {
   "cell_type": "code",
   "execution_count": 511,
   "metadata": {},
   "outputs": [],
   "source": [
    "def inner_gamma(p):\n",
    "    Z = 1\n",
    "    h_bar = 1\n",
    "    a0 = 1\n",
    "    \n",
    "    #my_gamma = np.frompyfunc(gamma, 1, 1) # vector\n",
    "    eta_p = Z*h_bar/a0/np.linalg.norm(p,2, axis = 0)\n",
    "    gamma(1 + 1j*eta_p)\n",
    "    \n",
    "    return gamma(1 + 1j*eta_p)\n",
    "\n",
    "def my_gamma(p):\n",
    "    values = mp_matrix(1,len(p))\n",
    "    \n",
    "    for i in range(len(p)):\n",
    "        values[0,i] = inner_gamma(p[i])\n",
    "    return values"
   ]
  },
  {
   "cell_type": "code",
   "execution_count": 512,
   "metadata": {},
   "outputs": [
    {
     "name": "stdout",
     "output_type": "stream",
     "text": [
      "[(0.987318550276245 - 0.0644553834665771j)  (0.989906808681611 - 0.0576679559640922j)] <class 'mpmath.matrices.matrices.matrix'>\n"
     ]
    }
   ],
   "source": [
    "#Test\n",
    "p = np.array([[4, 5, 6], [5, 6, 6]])\n",
    "print(my_gamma(p), type(my_gamma(p)))"
   ]
  },
  {
   "cell_type": "code",
   "execution_count": 537,
   "metadata": {},
   "outputs": [],
   "source": [
    "from mpmath import mpc\n",
    "\n",
    "def columb_wave_single(r, p): # Maybe some functions above are redundant\n",
    "    \n",
    "    h_bar = 1\n",
    "    Z = 1\n",
    "    a0 = 1\n",
    "    L = 3\n",
    "    \n",
    "    eta_p = Z*h_bar/a0/np.linalg.norm(p,2, axis = 0)\n",
    "    \n",
    "    #phi = \n",
    "    phi = np.exp(eta_p*np.pi/2)*\\\n",
    "        inner_gamma(p)*\\\n",
    "        mpc(np.exp(1j*np.dot(p,r)/h_bar))*\\\n",
    "        hyper_1F1(r,p) # * (1/L)**(3/2)\n",
    "    \n",
    "    #how to normilize this function?\n",
    "    return phi"
   ]
  },
  {
   "cell_type": "code",
   "execution_count": 538,
   "metadata": {},
   "outputs": [
    {
     "name": "stdout",
     "output_type": "stream",
     "text": [
      "(0.488397421999974 + 0.870621463643977j)\n"
     ]
    }
   ],
   "source": [
    "r = np.array([1, 2, 3])\n",
    "p = np.array([4, 5, 6])\n",
    "print(columb_wave_single(r, p))"
   ]
  },
  {
   "cell_type": "code",
   "execution_count": 536,
   "metadata": {},
   "outputs": [
    {
     "ename": "SyntaxError",
     "evalue": "invalid syntax (<ipython-input-536-dc33acbb8cc9>, line 4)",
     "output_type": "error",
     "traceback": [
      "\u001b[0;36m  File \u001b[0;32m\"<ipython-input-536-dc33acbb8cc9>\"\u001b[0;36m, line \u001b[0;32m4\u001b[0m\n\u001b[0;31m    \"\"\"think about loop removing\"\"\"\u001b[0m\n\u001b[0m                                   \n^\u001b[0m\n\u001b[0;31mSyntaxError\u001b[0m\u001b[0;31m:\u001b[0m invalid syntax\n"
     ]
    }
   ],
   "source": [
    "\"\"\"\n",
    "def matrix_columb_wave_p(r,p): # we have fixed p here, and go over r vectors\n",
    "    \n",
    "    \"\"\"think about loop removing\"\"\"\n",
    "    #hyp1f1_fun = np.frompyfunc(hyper_1F1, 2, 1)\n",
    "    #hfun = hyp1f1_fun(r, p)\n",
    "    values = mp_matrix(1,len(r))\n",
    "    \n",
    "    for i in range(len(r)):\n",
    "        hfun = columb_wave_single(r[i],p)\n",
    "        values[0,i] = hfun\n",
    "    return values\n",
    "\n",
    "p = np.array([1, 2, 3])\n",
    "r = np.array([[4, 5, 6], [5, 6, 7]])\n",
    "print(matrix_columb_wave_p(r,p))\n",
    "\"\"\""
   ]
  },
  {
   "cell_type": "code",
   "execution_count": 619,
   "metadata": {},
   "outputs": [],
   "source": [
    "def col_vol_state(r, p, t):\n",
    "    c = 0\n",
    "    m = 1\n",
    "    wL = 1\n",
    "    A0 = np.array([0, 1, 0])\n",
    "    e = 1\n",
    "    Ep =2\n",
    "    alpha_0 = - e * A0/wL \n",
    "    \n",
    "    alpha_L = alpha_0 * np.sin(wL * t) # should be fun\n",
    "    \n",
    "    integ_vec = (np.linalg.norm(A0,2) * e**2)*(1/2) * \\\n",
    "    (t + np.sin(2*wL*t))/2/wL + c # should be fun\n",
    "    \n",
    "    state = np.exp(-1j*Ep*t - \\\n",
    "                   1j*alpha_L*p - \\\n",
    "                  -1j*integ_vec/2/m)\n",
    "    \n",
    "      \n",
    "    c_wave = columb_wave_single(r, p)\n",
    "    np_c_wave = float(c_wave.real) + 1j*float(c_wave.imag) # np?\n",
    "   \n",
    "    #print(state, type(state), np_c_wave)\n",
    "    state = state*np_c_wave\n",
    "    \n",
    "    #print(state, type(state))\n",
    "    \n",
    "    return state"
   ]
  },
  {
   "cell_type": "code",
   "execution_count": 625,
   "metadata": {},
   "outputs": [
    {
     "name": "stdout",
     "output_type": "stream",
     "text": [
      "[ 0.76236691-0.64444586j -0.93285345-0.35538459j  0.76236691-0.64444586j]\n"
     ]
    }
   ],
   "source": [
    "r = np.array([1, 2, 3])\n",
    "p = np.array([4, 5, 6])\n",
    "t = 1\n",
    "print(col_vol_state(r,p,t))"
   ]
  },
  {
   "cell_type": "code",
   "execution_count": 587,
   "metadata": {},
   "outputs": [
    {
     "data": {
      "text/plain": [
       "3.7416573867739413"
      ]
     },
     "execution_count": 587,
     "metadata": {},
     "output_type": "execute_result"
    }
   ],
   "source": [
    "A = np.array([1,2,3])\n",
    "np.linalg.norm(A,2)"
   ]
  },
  {
   "cell_type": "code",
   "execution_count": 596,
   "metadata": {},
   "outputs": [
    {
     "ename": "NameError",
     "evalue": "name 'mpf' is not defined",
     "output_type": "error",
     "traceback": [
      "\u001b[0;31m---------------------------------------------------------------------------\u001b[0m",
      "\u001b[0;31mNameError\u001b[0m                                 Traceback (most recent call last)",
      "\u001b[0;32m<ipython-input-596-7d440590875a>\u001b[0m in \u001b[0;36m<module>\u001b[0;34m()\u001b[0m\n\u001b[0;32m----> 1\u001b[0;31m \u001b[0mmpf\u001b[0m\u001b[0;34m(\u001b[0m\u001b[0;34m[\u001b[0m\u001b[0;36m1j\u001b[0m\u001b[0;34m,\u001b[0m\u001b[0;36m2j\u001b[0m\u001b[0;34m]\u001b[0m\u001b[0;34m)\u001b[0m\u001b[0;34m\u001b[0m\u001b[0m\n\u001b[0m",
      "\u001b[0;31mNameError\u001b[0m: name 'mpf' is not defined"
     ]
    }
   ],
   "source": [
    "mpf([1j,2j])"
   ]
  },
  {
   "cell_type": "code",
   "execution_count": null,
   "metadata": {},
   "outputs": [],
   "source": []
  }
 ],
 "metadata": {
  "kernelspec": {
   "display_name": "Python 3",
   "language": "python",
   "name": "python3"
  },
  "language_info": {
   "codemirror_mode": {
    "name": "ipython",
    "version": 3
   },
   "file_extension": ".py",
   "mimetype": "text/x-python",
   "name": "python",
   "nbconvert_exporter": "python",
   "pygments_lexer": "ipython3",
   "version": "3.6.2rc1"
  }
 },
 "nbformat": 4,
 "nbformat_minor": 2
}
