{
 "cells": [
  {
   "cell_type": "code",
   "execution_count": null,
   "metadata": {},
   "outputs": [],
   "source": [
    "import numpy as np\n",
    "import matplotlib.pyplot as plt\n",
    "\n",
    "%matplotlib inline "
   ]
  },
  {
   "cell_type": "code",
   "execution_count": null,
   "metadata": {},
   "outputs": [],
   "source": [
    "# a.u. are used\n",
    "def psi_b(r, t): # r is supposed to be a vector [x,y,z,m]\n",
    "    beta = 1\n",
    "    Eb = - 0.5\n",
    "    psi = np.sqrt(beta**(1/3))/np.pi * \\\n",
    "          np.multiply(\n",
    "              np.exp(-beta*r).reshape(r.shape[0],1), \\\n",
    "              np.exp(-1j*Eb*t).reshape(1,t.shape[0]))\n",
    "    #print(np.exp(-beta*r).shape*np.exp(-1j*Eb*t).shape)\n",
    "    return psi"
   ]
  },
  {
   "cell_type": "code",
   "execution_count": null,
   "metadata": {},
   "outputs": [],
   "source": [
    "x = np.linspace(0,10,128)\n",
    "t = np.linspace(-10,10,128)\n",
    "print(psi_b(x,t).shape)\n",
    "#plt.plot(x,np.abs(psi_b(x,t)))\n",
    "#plt.plot(x, np.real(psi_b(x,t)))\n",
    "#plt.plot(x, np.imag(psi_b(x,t)))"
   ]
  },
  {
   "cell_type": "code",
   "execution_count": null,
   "metadata": {},
   "outputs": [],
   "source": [
    "# not ready yet\n",
    "def psi_b_plus(r,t):\n",
    "    Ep = 1 # ???\n",
    "    u_plus = 1 # ???\n",
    "    c = 0 #integration constant\n",
    "    a_0 = - e * A0 / wL # A0 should be a vectror\n",
    "    a_L = a_0*sin(wL*t) # or maybe it is worth to make it a function \n",
    "    \n",
    "    psi = np.exp(\n",
    "        -1j*Ep*t - \\\n",
    "        i*alpha_L(t)*p - \\\n",
    "        i/2/m * eL**2 * A0**2 *(t + sin(2*wL*t))/2 \\\n",
    "        + c) * \\\n",
    "    u_plus(r)\n",
    "    return psi"
   ]
  },
  {
   "cell_type": "code",
   "execution_count": null,
   "metadata": {},
   "outputs": [],
   "source": [
    "#from scipy.special import hyp1f1\n",
    "from mpmath import hyp1f1 as hyp1f1, gamma\n",
    "from mpmath import matrix as mp_matrix"
   ]
  },
  {
   "cell_type": "code",
   "execution_count": 491,
   "metadata": {},
   "outputs": [],
   "source": [
    "#p = [1,2,-3j]\n",
    "#a = np.linalg.norm(p,2)\n",
    "def hyper_1F1(r,p): #input just 2 vectors not matrix \n",
    "    \"\"\"it is supposed to return float32 type, but returns mpf\"\"\"\n",
    "    \n",
    "    Z = 1\n",
    "    h_bar = 1\n",
    "    a0 = 1\n",
    "    eta_p = Z*h_bar/a0/np.linalg.norm(p,2, axis = 0) # is abs equal to norm?\n",
    "    #print(np.linalg.norm(p,2, axis = 0),p,p.shape,type(p))\n",
    "    \n",
    "    hyp1f1_fun = np.frompyfunc(hyp1f1, 3, 1) # vector, USAGE IS NOT CORRECT\n",
    "    #result = hyp1f1_fun(1, 1, np.array(z)) \n",
    "    hfun = hyp1f1_fun(\n",
    "        -1j*eta_p,\\\n",
    "        1,\\\n",
    "        -1j*(np.linalg.norm(p,2, axis = 0)*np.linalg.norm(r,2, axis = 0) + np.dot(p,r))/h_bar\n",
    "    )\n",
    "    #print(type(hfun))\n",
    "    return hfun"
   ]
  },
  {
   "cell_type": "code",
   "execution_count": 490,
   "metadata": {},
   "outputs": [
    {
     "name": "stdout",
     "output_type": "stream",
     "text": [
      "(0.723236263122129 + 0.434200878681639j)\n"
     ]
    }
   ],
   "source": [
    "#Test\n",
    "r = np.array([1, 2, 3])\n",
    "p = np.array([4, 5, 6])\n",
    "print(hyper_1F1(r,p))"
   ]
  },
  {
   "cell_type": "code",
   "execution_count": 438,
   "metadata": {},
   "outputs": [],
   "source": [
    "def matrix_hyper_1F1_p(r,p): # we have fixed p here, and go over r vectors\n",
    "    \n",
    "    \"\"\"think about loop removing\"\"\"\n",
    "    #hyp1f1_fun = np.frompyfunc(hyper_1F1, 2, 1)\n",
    "    #hfun = hyp1f1_fun(r, p)\n",
    "    values = mp_matrix(1,len(r))\n",
    "    \n",
    "    for i in range(len(r)):\n",
    "        hfun = hyper_1F1(r[i],p)\n",
    "        values[0,i] = hfun\n",
    "    return values"
   ]
  },
  {
   "cell_type": "code",
   "execution_count": null,
   "metadata": {},
   "outputs": [],
   "source": [
    "#Test\n",
    "r = np.array([[1, 2, 3], [7, 8, 9]])\n",
    "p = np.array([7, 8, 9])\n",
    "print(matrix_hyper_1F1_p(r,p), p.shape)"
   ]
  },
  {
   "cell_type": "code",
   "execution_count": 429,
   "metadata": {},
   "outputs": [
    {
     "data": {
      "text/plain": [
       "'hyp1f1_fun = np.frompyfunc(hyp1f1, 3, 1) # make vector input function \\nvalues = hyp1f1_fun(1, 1, np.array(z)) \\nZ = np.array(values.tolist(), dtype = np.float32) # convert mpf type to float32\\nprint(Z, type(Z))'"
      ]
     },
     "execution_count": 429,
     "metadata": {},
     "output_type": "execute_result"
    }
   ],
   "source": [
    "\"\"\"hyp1f1_fun = np.frompyfunc(hyp1f1, 3, 1) # make vector input function \n",
    "values = hyp1f1_fun(1, 1, np.array(z)) \n",
    "Z = np.array(values.tolist(), dtype = np.float32) # convert mpf type to float32\n",
    "print(Z, type(Z))\"\"\"\n"
   ]
  },
  {
   "cell_type": "code",
   "execution_count": null,
   "metadata": {},
   "outputs": [],
   "source": [
    "def matrix_hyp1F1_px(r,p): # p is not fixed anymore\n",
    "    \"\"\"think about loop removing\"\"\"\n",
    "    #hyp1f1_fun = np.frompyfunc(hyper_1F1, 2, 1)\n",
    "    #hfun = hyp1f1_fun(r, p)\n",
    "    values = mp_matrix(len(p), len(r))\n",
    "    \n",
    "    for i in range(len(p)):\n",
    "        hfun = matrix_hyper_1F1_p(r,p[i])\n",
    "        values[i,:] = hfun\n",
    "    return values\n",
    "\n",
    "    # rows - p changes\n",
    "    # columns - r changes"
   ]
  },
  {
   "cell_type": "code",
   "execution_count": 498,
   "metadata": {},
   "outputs": [
    {
     "name": "stdout",
     "output_type": "stream",
     "text": [
      "[(0.723236263122129 + 0.434200878681639j)  (0.651149846811972 + 0.539129042554001j)]\n",
      "[(0.835061926636437 + 0.326741903074577j)  (0.800228898980005 + 0.405875072282826j)] (2, 3)\n"
     ]
    }
   ],
   "source": [
    "#Test\n",
    "r = np.array([[1, 2, 3], [7, 8, 9]])\n",
    "p = np.array([[4, 5, 6], [7, 8, 9]])\n",
    "print(matrix_hyp1F1_px(r,p), p.shape)"
   ]
  },
  {
   "cell_type": "code",
   "execution_count": 445,
   "metadata": {},
   "outputs": [],
   "source": [
    "def my_gamma(p):\n",
    "    Z = 1\n",
    "    h_bar = 1\n",
    "    a0 = 1\n",
    "    \n",
    "    my_gamma = np.frompyfunc(gamma, 1, 1) # vector\n",
    "    eta_p = Z*h_bar/a0/np.linalg.norm(p,2, axis = 1) # why does the other axis is used in hyperfunction?\n",
    "    values = my_gamma(1 + 1j*eta_p).tolist()\n",
    "    print(type(values))\n",
    "    return values"
   ]
  },
  {
   "cell_type": "code",
   "execution_count": 494,
   "metadata": {},
   "outputs": [],
   "source": [
    "def inner_gamma(p):\n",
    "    Z = 1\n",
    "    h_bar = 1\n",
    "    a0 = 1\n",
    "    \n",
    "    #my_gamma = np.frompyfunc(gamma, 1, 1) # vector\n",
    "    eta_p = Z*h_bar/a0/np.linalg.norm(p,2, axis = 0)\n",
    "    gamma(1 + 1j*eta_p)\n",
    "    \n",
    "    return gamma(1 + 1j*eta_p)\n",
    "\n",
    "def my_gamma(p):\n",
    "    values = mp_matrix(1,len(p))\n",
    "    \n",
    "    for i in range(len(p)):\n",
    "        values[0,i] = inner_gamma(p[i])\n",
    "    return values"
   ]
  },
  {
   "cell_type": "code",
   "execution_count": 501,
   "metadata": {},
   "outputs": [
    {
     "name": "stdout",
     "output_type": "stream",
     "text": [
      "[(0.987318550276245 - 0.0644553834665771j)  (0.989906808681611 - 0.0576679559640922j)] <class 'mpmath.matrices.matrices.matrix'>\n"
     ]
    }
   ],
   "source": [
    "#Test\n",
    "p = np.array([[4, 5, 6], [5, 6, 6]])\n",
    "print(my_gamma(p), type(my_gamma(p)))"
   ]
  },
  {
   "cell_type": "code",
   "execution_count": null,
   "metadata": {},
   "outputs": [],
   "source": [
    "def columb_scattering_state(r, p):\n",
    "    phi = (1/L)**3/2*np.my_gamma(p)*"
   ]
  },
  {
   "cell_type": "code",
   "execution_count": null,
   "metadata": {},
   "outputs": [],
   "source": [
    "def columb_wave_plot(r, p): # minus\n",
    "    Z = 1\n",
    "    h_bar = 1\n",
    "    a0 = 1\n",
    "    eta_p = Z*h_bar/a0/np.linalg.norm(p,2) # is abs equal to norm?\n",
    "   # print(eta.shape)\n",
    "    \n",
    "    hfun = hyp1f1(\n",
    "        -1j*eta_p,\\\n",
    "        1,\\\n",
    "        -1j*(np.linalg.norm(p,2)*np.linalg.norm(r,2) + np.dot(p,r))/h_bar\n",
    "    )\n",
    "    #hfun = hyp1f1(1j,1, r)\n",
    "    return hfun"
   ]
  },
  {
   "cell_type": "code",
   "execution_count": null,
   "metadata": {},
   "outputs": [],
   "source": []
  },
  {
   "cell_type": "code",
   "execution_count": null,
   "metadata": {},
   "outputs": [],
   "source": [
    "p = np.array([1,2,3])\n",
    "#r = np.array([10, 20, 30])\n",
    "z = np.linspace(0,1,100)\n",
    "print(columb_wave_plot(z,p))"
   ]
  },
  {
   "cell_type": "code",
   "execution_count": null,
   "metadata": {},
   "outputs": [],
   "source": []
  }
 ],
 "metadata": {
  "kernelspec": {
   "display_name": "Python 3",
   "language": "python",
   "name": "python3"
  },
  "language_info": {
   "codemirror_mode": {
    "name": "ipython",
    "version": 3
   },
   "file_extension": ".py",
   "mimetype": "text/x-python",
   "name": "python",
   "nbconvert_exporter": "python",
   "pygments_lexer": "ipython3",
   "version": "3.6.2rc1"
  }
 },
 "nbformat": 4,
 "nbformat_minor": 2
}
