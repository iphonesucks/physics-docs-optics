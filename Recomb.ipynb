{
 "cells": [
  {
   "cell_type": "code",
   "execution_count": 298,
   "metadata": {},
   "outputs": [],
   "source": [
    "import numpy as np\n",
    "import matplotlib.pyplot as plt\n",
    "\n",
    "%matplotlib inline "
   ]
  },
  {
   "cell_type": "code",
   "execution_count": 301,
   "metadata": {},
   "outputs": [],
   "source": [
    "# a.u. are used\n",
    "def psi_b(r, t): # r is supposed to be a vector [x,y,z,m]\n",
    "    beta = 1\n",
    "    Eb = - 0.5\n",
    "    psi = np.sqrt(beta**(1/3))/np.pi * \\\n",
    "          np.multiply(\n",
    "              np.exp(-beta*r).reshape(r.shape[0],1), \\\n",
    "              np.exp(-1j*Eb*t).reshape(1,t.shape[0]))\n",
    "    #print(np.exp(-beta*r).shape*np.exp(-1j*Eb*t).shape)\n",
    "    return psi"
   ]
  },
  {
   "cell_type": "code",
   "execution_count": 302,
   "metadata": {},
   "outputs": [
    {
     "name": "stdout",
     "output_type": "stream",
     "text": [
      "(128, 128)\n"
     ]
    }
   ],
   "source": [
    "x = np.linspace(0,10,128)\n",
    "t = np.linspace(-10,10,128)\n",
    "print(psi_b(x,t).shape)\n",
    "#plt.plot(x,np.abs(psi_b(x,t)))\n",
    "#plt.plot(x, np.real(psi_b(x,t)))\n",
    "#plt.plot(x, np.imag(psi_b(x,t)))"
   ]
  },
  {
   "cell_type": "code",
   "execution_count": 305,
   "metadata": {},
   "outputs": [],
   "source": [
    "# not ready yet\n",
    "def psi_b_plus(r,t):\n",
    "    Ep = 1 # ???\n",
    "    u_plus = 1 # ???\n",
    "    c = 0 #integration constant\n",
    "    a_0 = - e * A0 / wL # A0 should be a vectror\n",
    "    a_L = a_0*sin(wL*t) # or maybe it is worth to make it a function \n",
    "    \n",
    "    psi = np.exp(\n",
    "        -1j*Ep*t - \\\n",
    "        i*alpha_L(t)*p - \\\n",
    "        i/2/m * eL**2 * A0**2 *(t + sin(2*wL*t))/2 \\\n",
    "        + c) * \\\n",
    "    u_plus(r)\n",
    "    return psi"
   ]
  },
  {
   "cell_type": "code",
   "execution_count": 306,
   "metadata": {},
   "outputs": [],
   "source": [
    "#from scipy.special import hyp1f1\n",
    "from mpmath import hyp1f1 as hyp1f1\n",
    "from mpmath import matrix as mp_matrix"
   ]
  },
  {
   "cell_type": "code",
   "execution_count": 309,
   "metadata": {},
   "outputs": [],
   "source": [
    "#p = [1,2,-3j]\n",
    "#a = np.linalg.norm(p,2)\n",
    "def hyper_1F1(r,p): #input just 2 vectors not matrix \n",
    "    \"\"\"it is supposed to return float32 type, but returns mpf\"\"\"\n",
    "    \n",
    "    Z = 1\n",
    "    h_bar = 1\n",
    "    a0 = 1\n",
    "    eta_p = Z*h_bar/a0/np.linalg.norm(p,2, axis = 0) # is abs equal to norm?\n",
    "    \n",
    "    hyp1f1_fun = np.frompyfunc(hyp1f1, 3, 1) # vector\n",
    "    #result = hyp1f1_fun(1, 1, np.array(z)) \n",
    "    hfun = hyp1f1_fun(\n",
    "        -1j*eta_p,\\\n",
    "        1,\\\n",
    "        -1j*(np.linalg.norm(p,2, axis = 0)*np.linalg.norm(r,2, axis = 0) + np.dot(p,r))/h_bar\n",
    "    )\n",
    "    return hfun"
   ]
  },
  {
   "cell_type": "code",
   "execution_count": 310,
   "metadata": {},
   "outputs": [
    {
     "name": "stdout",
     "output_type": "stream",
     "text": [
      "(0.723236263122129 + 0.434200878681639j)\n"
     ]
    }
   ],
   "source": [
    "#Test\n",
    "r = np.array([1, 2, 3])\n",
    "p = np.array([4, 5, 6])\n",
    "print(hyper_1F1(r,p))"
   ]
  },
  {
   "cell_type": "code",
   "execution_count": 311,
   "metadata": {},
   "outputs": [],
   "source": [
    "def matrix_hyper_1F1_p(r,p): # we have fixed p here, and go over r vectors\n",
    "    \n",
    "    \"\"\"think about loop removing\"\"\"\n",
    "    #hyp1f1_fun = np.frompyfunc(hyper_1F1, 2, 1)\n",
    "    #hfun = hyp1f1_fun(r, p)\n",
    "    values = mp_matrix(1,len(r))\n",
    "    \n",
    "    for i in range(len(r)):\n",
    "        hfun = hyper_1F1(r[i],p)\n",
    "        values[0,i] = hfun\n",
    "    return values"
   ]
  },
  {
   "cell_type": "code",
   "execution_count": 297,
   "metadata": {},
   "outputs": [
    {
     "name": "stdout",
     "output_type": "stream",
     "text": [
      "[(0.835061926636437 + 0.326741903074577j)  (0.800228898980005 + 0.405875072282826j)]\n"
     ]
    }
   ],
   "source": [
    "#Test\n",
    "r = np.array([[1, 2, 3], [7, 8, 9]])\n",
    "p = np.array([7, 8, 9])\n",
    "print(matrix_hyper_1F1_p(r,p))"
   ]
  },
  {
   "cell_type": "code",
   "execution_count": 316,
   "metadata": {},
   "outputs": [],
   "source": [
    "def matrix_hyp1F1_px(r,p): # p is not fixed anymore\n",
    "    \"\"\"think about loop removing\"\"\"\n",
    "    #hyp1f1_fun = np.frompyfunc(hyper_1F1, 2, 1)\n",
    "    #hfun = hyp1f1_fun(r, p)\n",
    "    values = mp_matrix(len(p), len(r))\n",
    "    \n",
    "    for i in range(len(p)):\n",
    "        hfun = matrix_hyper_1F1_p(r,p[i])\n",
    "        values[i,:] = hfun\n",
    "    return values\n",
    "\n",
    "    # rows - p changes\n",
    "    # columns - r changes"
   ]
  },
  {
   "cell_type": "code",
   "execution_count": 317,
   "metadata": {},
   "outputs": [
    {
     "name": "stdout",
     "output_type": "stream",
     "text": [
      "[(0.723236263122129 + 0.434200878681639j)  (0.651149846811972 + 0.539129042554001j)]\n",
      "[(0.835061926636437 + 0.326741903074577j)  (0.800228898980005 + 0.405875072282826j)]\n"
     ]
    }
   ],
   "source": [
    "#Test\n",
    "r = np.array([[1, 2, 3], [7, 8, 9]])\n",
    "p = np.array([[4, 5, 6], [7, 8, 9]])\n",
    "print(matrix_hyp1F1_px(r,p))"
   ]
  },
  {
   "cell_type": "code",
   "execution_count": null,
   "metadata": {},
   "outputs": [],
   "source": []
  },
  {
   "cell_type": "code",
   "execution_count": 150,
   "metadata": {},
   "outputs": [
    {
     "data": {
      "text/plain": [
       "'hyp1f1_fun = np.frompyfunc(hyp1f1, 3, 1) # make vector input function \\nvalues = hyp1f1_fun(1, 1, np.array(z)) \\nZ = np.array(values.tolist(), dtype = np.float32) # convert mpf type to float32\\nprint(Z)\\n'"
      ]
     },
     "execution_count": 150,
     "metadata": {},
     "output_type": "execute_result"
    }
   ],
   "source": [
    "\"\"\"hyp1f1_fun = np.frompyfunc(hyp1f1, 3, 1) # make vector input function \n",
    "values = hyp1f1_fun(1, 1, np.array(z)) \n",
    "Z = np.array(values.tolist(), dtype = np.float32) # convert mpf type to float32\n",
    "print(Z)\n",
    "\"\"\""
   ]
  },
  {
   "cell_type": "code",
   "execution_count": 118,
   "metadata": {},
   "outputs": [],
   "source": [
    "def columb_wave_plot(r, p): # minus\n",
    "    Z = 1\n",
    "    h_bar = 1\n",
    "    a0 = 1\n",
    "    eta_p = Z*h_bar/a0/np.linalg.norm(p,2) # is abs equal to norm?\n",
    "   # print(eta.shape)\n",
    "    \n",
    "    hfun = hyp1f1(\n",
    "        -1j*eta_p,\\\n",
    "        1,\\\n",
    "        -1j*(np.linalg.norm(p,2)*np.linalg.norm(r,2) + np.dot(p,r))/h_bar\n",
    "    )\n",
    "    #hfun = hyp1f1(1j,1, r)\n",
    "    return hfun"
   ]
  },
  {
   "cell_type": "code",
   "execution_count": 151,
   "metadata": {},
   "outputs": [
    {
     "ename": "TypeError",
     "evalue": "cannot create mpf from array([ 0.        ,  0.01010101,  0.02020202,  0.03030303,  0.04040404,\n        0.05050505,  0.06060606,  0.07070707,  0.08080808,  0.09090909,\n        0.1010101 ,  0.11111111,  0.12121212,  0.13131313,  0.14141414,\n        0.15151515,  0.16161616,  0.17171717,  0.18181818,  0.19191919,\n        0.2020202 ,  0.21212121,  0.22222222,  0.23232323,  0.24242424,\n        0.25252525,  0.26262626,  0.27272727,  0.28282828,  0.29292929,\n        0.3030303 ,  0.31313131,  0.32323232,  0.33333333,  0.34343434,\n        0.35353535,  0.36363636,  0.37373737,  0.38383838,  0.39393939,\n        0.4040404 ,  0.41414141,  0.42424242,  0.43434343,  0.44444444,\n        0.45454545,  0.46464646,  0.47474747,  0.48484848,  0.49494949,\n        0.50505051,  0.51515152,  0.52525253,  0.53535354,  0.54545455,\n        0.55555556,  0.56565657,  0.57575758,  0.58585859,  0.5959596 ,\n        0.60606061,  0.61616162,  0.62626263,  0.63636364,  0.64646465,\n        0.65656566,  0.66666667,  0.67676768,  0.68686869,  0.6969697 ,\n        0.70707071,  0.71717172,  0.72727273,  0.73737374,  0.74747475,\n        0.75757576,  0.76767677,  0.77777778,  0.78787879,  0.7979798 ,\n        0.80808081,  0.81818182,  0.82828283,  0.83838384,  0.84848485,\n        0.85858586,  0.86868687,  0.87878788,  0.88888889,  0.8989899 ,\n        0.90909091,  0.91919192,  0.92929293,  0.93939394,  0.94949495,\n        0.95959596,  0.96969697,  0.97979798,  0.98989899,  1.        ])",
     "output_type": "error",
     "traceback": [
      "\u001b[0;31m---------------------------------------------------------------------------\u001b[0m",
      "\u001b[0;31mTypeError\u001b[0m                                 Traceback (most recent call last)",
      "\u001b[0;32m<ipython-input-151-153722a13611>\u001b[0m in \u001b[0;36m<module>\u001b[0;34m()\u001b[0m\n\u001b[1;32m      2\u001b[0m \u001b[0;31m#r = np.array([10, 20, 30])\u001b[0m\u001b[0;34m\u001b[0m\u001b[0;34m\u001b[0m\u001b[0m\n\u001b[1;32m      3\u001b[0m \u001b[0mz\u001b[0m \u001b[0;34m=\u001b[0m \u001b[0mnp\u001b[0m\u001b[0;34m.\u001b[0m\u001b[0mlinspace\u001b[0m\u001b[0;34m(\u001b[0m\u001b[0;36m0\u001b[0m\u001b[0;34m,\u001b[0m\u001b[0;36m1\u001b[0m\u001b[0;34m,\u001b[0m\u001b[0;36m100\u001b[0m\u001b[0;34m)\u001b[0m\u001b[0;34m\u001b[0m\u001b[0m\n\u001b[0;32m----> 4\u001b[0;31m \u001b[0mprint\u001b[0m\u001b[0;34m(\u001b[0m\u001b[0mcolumb_wave_plot\u001b[0m\u001b[0;34m(\u001b[0m\u001b[0mz\u001b[0m\u001b[0;34m,\u001b[0m\u001b[0mp\u001b[0m\u001b[0;34m)\u001b[0m\u001b[0;34m)\u001b[0m\u001b[0;34m\u001b[0m\u001b[0m\n\u001b[0m",
      "\u001b[0;32m<ipython-input-118-8c1e72c4dd94>\u001b[0m in \u001b[0;36mcolumb_wave_plot\u001b[0;34m(r, p)\u001b[0m\n\u001b[1;32m     11\u001b[0m         \u001b[0;34m-\u001b[0m\u001b[0;36m1j\u001b[0m\u001b[0;34m*\u001b[0m\u001b[0;34m(\u001b[0m\u001b[0mnp\u001b[0m\u001b[0;34m.\u001b[0m\u001b[0mlinalg\u001b[0m\u001b[0;34m.\u001b[0m\u001b[0mnorm\u001b[0m\u001b[0;34m(\u001b[0m\u001b[0mp\u001b[0m\u001b[0;34m,\u001b[0m\u001b[0;36m2\u001b[0m\u001b[0;34m)\u001b[0m\u001b[0;34m*\u001b[0m\u001b[0mnp\u001b[0m\u001b[0;34m.\u001b[0m\u001b[0mlinalg\u001b[0m\u001b[0;34m.\u001b[0m\u001b[0mnorm\u001b[0m\u001b[0;34m(\u001b[0m\u001b[0mr\u001b[0m\u001b[0;34m,\u001b[0m\u001b[0;36m2\u001b[0m\u001b[0;34m)\u001b[0m \u001b[0;34m+\u001b[0m \u001b[0mnp\u001b[0m\u001b[0;34m.\u001b[0m\u001b[0mdot\u001b[0m\u001b[0;34m(\u001b[0m\u001b[0mp\u001b[0m\u001b[0;34m,\u001b[0m\u001b[0mr\u001b[0m\u001b[0;34m)\u001b[0m\u001b[0;34m)\u001b[0m\u001b[0;34m/\u001b[0m\u001b[0mh_bar\u001b[0m\u001b[0;34m\u001b[0m\u001b[0m\n\u001b[1;32m     12\u001b[0m     )\"\"\"\n\u001b[0;32m---> 13\u001b[0;31m     \u001b[0mhfun\u001b[0m \u001b[0;34m=\u001b[0m \u001b[0mhyp1f1\u001b[0m\u001b[0;34m(\u001b[0m\u001b[0;36m1j\u001b[0m\u001b[0;34m,\u001b[0m\u001b[0;36m1\u001b[0m\u001b[0;34m,\u001b[0m \u001b[0mr\u001b[0m\u001b[0;34m)\u001b[0m\u001b[0;34m\u001b[0m\u001b[0m\n\u001b[0m\u001b[1;32m     14\u001b[0m     \u001b[0;32mreturn\u001b[0m \u001b[0mhfun\u001b[0m\u001b[0;34m\u001b[0m\u001b[0m\n",
      "\u001b[0;32m~/Desktop/PyProjects/Phys/env/lib/python3.6/site-packages/mpmath/functions/hypergeometric.py\u001b[0m in \u001b[0;36mhyp1f1\u001b[0;34m(ctx, a, b, z, **kwargs)\u001b[0m\n\u001b[1;32m    241\u001b[0m \u001b[0;34m@\u001b[0m\u001b[0mdefun\u001b[0m\u001b[0;34m\u001b[0m\u001b[0m\n\u001b[1;32m    242\u001b[0m \u001b[0;32mdef\u001b[0m \u001b[0mhyp1f1\u001b[0m\u001b[0;34m(\u001b[0m\u001b[0mctx\u001b[0m\u001b[0;34m,\u001b[0m\u001b[0ma\u001b[0m\u001b[0;34m,\u001b[0m\u001b[0mb\u001b[0m\u001b[0;34m,\u001b[0m\u001b[0mz\u001b[0m\u001b[0;34m,\u001b[0m\u001b[0;34m**\u001b[0m\u001b[0mkwargs\u001b[0m\u001b[0;34m)\u001b[0m\u001b[0;34m:\u001b[0m\u001b[0;34m\u001b[0m\u001b[0m\n\u001b[0;32m--> 243\u001b[0;31m     \u001b[0;32mreturn\u001b[0m \u001b[0mctx\u001b[0m\u001b[0;34m.\u001b[0m\u001b[0mhyper\u001b[0m\u001b[0;34m(\u001b[0m\u001b[0;34m[\u001b[0m\u001b[0ma\u001b[0m\u001b[0;34m]\u001b[0m\u001b[0;34m,\u001b[0m\u001b[0;34m[\u001b[0m\u001b[0mb\u001b[0m\u001b[0;34m]\u001b[0m\u001b[0;34m,\u001b[0m\u001b[0mz\u001b[0m\u001b[0;34m,\u001b[0m\u001b[0;34m**\u001b[0m\u001b[0mkwargs\u001b[0m\u001b[0;34m)\u001b[0m\u001b[0;34m\u001b[0m\u001b[0m\n\u001b[0m\u001b[1;32m    244\u001b[0m \u001b[0;34m\u001b[0m\u001b[0m\n\u001b[1;32m    245\u001b[0m \u001b[0;34m@\u001b[0m\u001b[0mdefun\u001b[0m\u001b[0;34m\u001b[0m\u001b[0m\n",
      "\u001b[0;32m~/Desktop/PyProjects/Phys/env/lib/python3.6/site-packages/mpmath/functions/hypergeometric.py\u001b[0m in \u001b[0;36mhyper\u001b[0;34m(ctx, a_s, b_s, z, **kwargs)\u001b[0m\n\u001b[1;32m    197\u001b[0m     \u001b[0mHypergeometric\u001b[0m \u001b[0mfunction\u001b[0m\u001b[0;34m,\u001b[0m \u001b[0mgeneral\u001b[0m \u001b[0mcase\u001b[0m\u001b[0;34m.\u001b[0m\u001b[0;34m\u001b[0m\u001b[0m\n\u001b[1;32m    198\u001b[0m     \"\"\"\n\u001b[0;32m--> 199\u001b[0;31m     \u001b[0mz\u001b[0m \u001b[0;34m=\u001b[0m \u001b[0mctx\u001b[0m\u001b[0;34m.\u001b[0m\u001b[0mconvert\u001b[0m\u001b[0;34m(\u001b[0m\u001b[0mz\u001b[0m\u001b[0;34m)\u001b[0m\u001b[0;34m\u001b[0m\u001b[0m\n\u001b[0m\u001b[1;32m    200\u001b[0m     \u001b[0mp\u001b[0m \u001b[0;34m=\u001b[0m \u001b[0mlen\u001b[0m\u001b[0;34m(\u001b[0m\u001b[0ma_s\u001b[0m\u001b[0;34m)\u001b[0m\u001b[0;34m\u001b[0m\u001b[0m\n\u001b[1;32m    201\u001b[0m     \u001b[0mq\u001b[0m \u001b[0;34m=\u001b[0m \u001b[0mlen\u001b[0m\u001b[0;34m(\u001b[0m\u001b[0mb_s\u001b[0m\u001b[0;34m)\u001b[0m\u001b[0;34m\u001b[0m\u001b[0m\n",
      "\u001b[0;32m~/Desktop/PyProjects/Phys/env/lib/python3.6/site-packages/mpmath/ctx_mp_python.py\u001b[0m in \u001b[0;36mconvert\u001b[0;34m(ctx, x, strings)\u001b[0m\n\u001b[1;32m    660\u001b[0m         \u001b[0;32mif\u001b[0m \u001b[0mhasattr\u001b[0m\u001b[0;34m(\u001b[0m\u001b[0mx\u001b[0m\u001b[0;34m,\u001b[0m \u001b[0;34m'_mpmath_'\u001b[0m\u001b[0;34m)\u001b[0m\u001b[0;34m:\u001b[0m\u001b[0;34m\u001b[0m\u001b[0m\n\u001b[1;32m    661\u001b[0m             \u001b[0;32mreturn\u001b[0m \u001b[0mctx\u001b[0m\u001b[0;34m.\u001b[0m\u001b[0mconvert\u001b[0m\u001b[0;34m(\u001b[0m\u001b[0mx\u001b[0m\u001b[0;34m.\u001b[0m\u001b[0m_mpmath_\u001b[0m\u001b[0;34m(\u001b[0m\u001b[0mprec\u001b[0m\u001b[0;34m,\u001b[0m \u001b[0mrounding\u001b[0m\u001b[0;34m)\u001b[0m\u001b[0;34m)\u001b[0m\u001b[0;34m\u001b[0m\u001b[0m\n\u001b[0;32m--> 662\u001b[0;31m         \u001b[0;32mreturn\u001b[0m \u001b[0mctx\u001b[0m\u001b[0;34m.\u001b[0m\u001b[0m_convert_fallback\u001b[0m\u001b[0;34m(\u001b[0m\u001b[0mx\u001b[0m\u001b[0;34m,\u001b[0m \u001b[0mstrings\u001b[0m\u001b[0;34m)\u001b[0m\u001b[0;34m\u001b[0m\u001b[0m\n\u001b[0m\u001b[1;32m    663\u001b[0m \u001b[0;34m\u001b[0m\u001b[0m\n\u001b[1;32m    664\u001b[0m     \u001b[0;32mdef\u001b[0m \u001b[0misnan\u001b[0m\u001b[0;34m(\u001b[0m\u001b[0mctx\u001b[0m\u001b[0;34m,\u001b[0m \u001b[0mx\u001b[0m\u001b[0;34m)\u001b[0m\u001b[0;34m:\u001b[0m\u001b[0;34m\u001b[0m\u001b[0m\n",
      "\u001b[0;32m~/Desktop/PyProjects/Phys/env/lib/python3.6/site-packages/mpmath/ctx_mp.py\u001b[0m in \u001b[0;36m_convert_fallback\u001b[0;34m(ctx, x, strings)\u001b[0m\n\u001b[1;32m    632\u001b[0m             \u001b[0;32melse\u001b[0m\u001b[0;34m:\u001b[0m\u001b[0;34m\u001b[0m\u001b[0m\n\u001b[1;32m    633\u001b[0m                 \u001b[0;32mraise\u001b[0m \u001b[0mValueError\u001b[0m\u001b[0;34m(\u001b[0m\u001b[0;34m\"can only create mpf from zero-width interval\"\u001b[0m\u001b[0;34m)\u001b[0m\u001b[0;34m\u001b[0m\u001b[0m\n\u001b[0;32m--> 634\u001b[0;31m         \u001b[0;32mraise\u001b[0m \u001b[0mTypeError\u001b[0m\u001b[0;34m(\u001b[0m\u001b[0;34m\"cannot create mpf from \"\u001b[0m \u001b[0;34m+\u001b[0m \u001b[0mrepr\u001b[0m\u001b[0;34m(\u001b[0m\u001b[0mx\u001b[0m\u001b[0;34m)\u001b[0m\u001b[0;34m)\u001b[0m\u001b[0;34m\u001b[0m\u001b[0m\n\u001b[0m\u001b[1;32m    635\u001b[0m \u001b[0;34m\u001b[0m\u001b[0m\n\u001b[1;32m    636\u001b[0m     \u001b[0;32mdef\u001b[0m \u001b[0mmpmathify\u001b[0m\u001b[0;34m(\u001b[0m\u001b[0mctx\u001b[0m\u001b[0;34m,\u001b[0m \u001b[0;34m*\u001b[0m\u001b[0margs\u001b[0m\u001b[0;34m,\u001b[0m \u001b[0;34m**\u001b[0m\u001b[0mkwargs\u001b[0m\u001b[0;34m)\u001b[0m\u001b[0;34m:\u001b[0m\u001b[0;34m\u001b[0m\u001b[0m\n",
      "\u001b[0;31mTypeError\u001b[0m: cannot create mpf from array([ 0.        ,  0.01010101,  0.02020202,  0.03030303,  0.04040404,\n        0.05050505,  0.06060606,  0.07070707,  0.08080808,  0.09090909,\n        0.1010101 ,  0.11111111,  0.12121212,  0.13131313,  0.14141414,\n        0.15151515,  0.16161616,  0.17171717,  0.18181818,  0.19191919,\n        0.2020202 ,  0.21212121,  0.22222222,  0.23232323,  0.24242424,\n        0.25252525,  0.26262626,  0.27272727,  0.28282828,  0.29292929,\n        0.3030303 ,  0.31313131,  0.32323232,  0.33333333,  0.34343434,\n        0.35353535,  0.36363636,  0.37373737,  0.38383838,  0.39393939,\n        0.4040404 ,  0.41414141,  0.42424242,  0.43434343,  0.44444444,\n        0.45454545,  0.46464646,  0.47474747,  0.48484848,  0.49494949,\n        0.50505051,  0.51515152,  0.52525253,  0.53535354,  0.54545455,\n        0.55555556,  0.56565657,  0.57575758,  0.58585859,  0.5959596 ,\n        0.60606061,  0.61616162,  0.62626263,  0.63636364,  0.64646465,\n        0.65656566,  0.66666667,  0.67676768,  0.68686869,  0.6969697 ,\n        0.70707071,  0.71717172,  0.72727273,  0.73737374,  0.74747475,\n        0.75757576,  0.76767677,  0.77777778,  0.78787879,  0.7979798 ,\n        0.80808081,  0.81818182,  0.82828283,  0.83838384,  0.84848485,\n        0.85858586,  0.86868687,  0.87878788,  0.88888889,  0.8989899 ,\n        0.90909091,  0.91919192,  0.92929293,  0.93939394,  0.94949495,\n        0.95959596,  0.96969697,  0.97979798,  0.98989899,  1.        ])"
     ]
    }
   ],
   "source": [
    "p = np.array([1,2,3])\n",
    "#r = np.array([10, 20, 30])\n",
    "z = np.linspace(0,1,100)\n",
    "print(columb_wave_plot(z,p))"
   ]
  },
  {
   "cell_type": "code",
   "execution_count": null,
   "metadata": {},
   "outputs": [],
   "source": []
  }
 ],
 "metadata": {
  "kernelspec": {
   "display_name": "Python 3",
   "language": "python",
   "name": "python3"
  },
  "language_info": {
   "codemirror_mode": {
    "name": "ipython",
    "version": 3
   },
   "file_extension": ".py",
   "mimetype": "text/x-python",
   "name": "python",
   "nbconvert_exporter": "python",
   "pygments_lexer": "ipython3",
   "version": "3.6.2rc1"
  }
 },
 "nbformat": 4,
 "nbformat_minor": 2
}
