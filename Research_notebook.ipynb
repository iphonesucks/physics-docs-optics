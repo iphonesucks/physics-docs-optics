{
 "cells": [
  {
   "cell_type": "markdown",
   "metadata": {},
   "source": [
    "# Двойное лучепреломление"
   ]
  },
  {
   "cell_type": "markdown",
   "metadata": {},
   "source": [
    "Двойно́е лучепреломле́ние или двулучепреломле́ние — эффект расщепления в анизотропных средах луча света на две составляющие. Если луч света падает перпендикулярно к поверхности кристалла, то на этой поверхности он расщепляется на два луча. Первый луч продолжает распространяться прямо, и называется обыкновенным (o — ordinary), второй же отклоняется в сторону, и называется необыкновенным (e — extraordinary)."
   ]
  },
  {
   "cell_type": "markdown",
   "metadata": {},
   "source": [
    "Направление колебания вектора электрического поля <font color='blue'>необыкновенного луча</font>  лежит в <font color='red'>плоскости главного сечения</font> (плоскости, проходящей через луч и оптическую ось кристалла). <b>Оптическая ось кристалла</b> — направление в оптически анизотропном кристалле <b>(???)</b>, по которому луч света распространяется, не испытывая двойного лучепреломления. "
   ]
  },
  {
   "cell_type": "markdown",
   "metadata": {},
   "source": [
    "Eсли луч света будет не параллелен оптической оси, то, при прохождении через кристалл он расщепится на два: обыкновенный и необыкновенный, которые будут взаимно перпендикулярно поляризованы. "
   ]
  },
  {
   "cell_type": "markdown",
   "metadata": {},
   "source": [
    "Нарушение закона преломления света необыкновенным лучом связано с тем, что скорость распространения света (а значит и показатель преломления) волн с такой поляризацией, как у необыкновенного луча, зависит от направления. Для обыкновенной волны скорость распространения одинакова во всех направлениях. "
   ]
  },
  {
   "cell_type": "markdown",
   "metadata": {},
   "source": [
    "Можно подобрать условия, при которых обыкновенный и необыкновенный лучи распространяются по одной траектории, но с разными скоростями."
   ]
  },
  {
   "cell_type": "markdown",
   "metadata": {},
   "source": [
    "Показатель преломления обыкновенного луча постоянен для любого направления в кристалле, а необыкновенного луча переменный и зависит от направления. В одноосном кристалле для направления, параллельного оптической оси, их показатели преломления равны. "
   ]
  },
  {
   "cell_type": "markdown",
   "metadata": {},
   "source": [
    "# ZnTe (zinc telluride crystal)"
   ]
  },
  {
   "cell_type": "markdown",
   "metadata": {},
   "source": [
    "<img src=\"Pictures/Zinc-selenide-unit-cell-3D-balls.png\" alt=\"zinc telluride crystal\">"
   ]
  },
  {
   "cell_type": "markdown",
   "metadata": {},
   "source": [
    "<font color='green'>Zinc telluride together with lithium niobate is often used for generation of pulsed terahertz radiation in time-domain terahertz spectroscopy and terahertz imaging</font>  "
   ]
  },
  {
   "cell_type": "markdown",
   "metadata": {},
   "source": [
    "ZnTe и <b>ниобат лития</b> часто используются для генерации электромагнитных импульсов терагерцевого диапазона для изучения свойств веществ методом импульсной терагерцевой спектроскопии и радиоволнового неразрушающего контроля диэлектрических деталей терагерцевым излучением. Генерация терагерцевого излучения в кристаллах ZnTe возбуждается высокоинтенсивными импульсами светового излучения и обусловлена нелинейными оптическими эффектами, приводящими к преобразованию энергии оптического излучения в энергию терагерцевых электромагнитных волн[9]. И наоборот, облучение монокристалла ZnTe терагерцевым электромагнитным излучением вызывает в нём эффект двойного лучепреломления, изменяющий поляризацию проходящего света, что пригодно для создания детекторов терагерцевого излучения. "
   ]
  },
  {
   "cell_type": "markdown",
   "metadata": {},
   "source": [
    "<b>Считается высокотоксичным веществом, так как при взаимодействии с кислотами или горячей водой образуется чрезвычайно ядовитый теллуроводород </b> "
   ]
  },
  {
   "cell_type": "markdown",
   "metadata": {},
   "source": [
    "# Lithium niobate (LiNbO3)"
   ]
  },
  {
   "cell_type": "markdown",
   "metadata": {},
   "source": [
    "<img src=\"Pictures/Linbo3_Unit_Cell.png\" style=\"width:300px;height:300px;\">"
   ]
  },
  {
   "cell_type": "markdown",
   "metadata": {},
   "source": [
    "Обладает высокими нелинейно-оптическими характеристиками, поэтому используется в лазерах для генерации второй гармоники"
   ]
  },
  {
   "cell_type": "markdown",
   "metadata": {},
   "source": [
    "Его кристаллическая структура не имеет центральной симметрии, поэтому ниобат лития является сегнетоэлектриком и демонстрирует эффект Поккельса, пьезоэлектрический эффект, фотоупругость и нелинейную оптическую поляризуемость. "
   ]
  },
  {
   "cell_type": "markdown",
   "metadata": {},
   "source": [
    "### Вектор поляризации"
   ]
  },
  {
   "cell_type": "markdown",
   "metadata": {},
   "source": [
    "Вектор поляризации — векторная физическая величина, равная дипольному моменту единицы объёма вещества, возникающему при его поляризации, количественная характеристика диэлектрической поляризации. "
   ]
  },
  {
   "cell_type": "markdown",
   "metadata": {},
   "source": [
    "Если выделить какой-либо объём в диэлектрике, то в результате приложения поля на его поверхности могут возникнуть поверхностные электрические заряды $\\sigma_{sur}$"
   ]
  },
  {
   "cell_type": "markdown",
   "metadata": {},
   "source": [
    "$P_{n}=\\mathbf {P} \\cdot \\mathbf {n} =\\sigma _{sur}$"
   ]
  },
  {
   "cell_type": "markdown",
   "metadata": {},
   "source": [
    "где $\\mathbf {n}$ — орт нормали к поверхности. "
   ]
  },
  {
   "cell_type": "markdown",
   "metadata": {},
   "source": [
    "### Магнетизация?"
   ]
  },
  {
   "cell_type": "markdown",
   "metadata": {},
   "source": [
    "${\\mathbf M}={\\frac {d{\\mathbf m}}{dV}}$"
   ]
  },
  {
   "cell_type": "markdown",
   "metadata": {},
   "source": [
    "Можно ввести вектор электрической индукции $\\mathbf {D}$, который удобен при описании электрического поля в сплошной среде:\n",
    "$$\\mathbf {D} =\\varepsilon _{0}\\mathbf {E} +\\mathbf {P} (СИ)$$\n",
    "$$\\mathbf {D} =\\mathbf {E} +4\\pi \\mathbf {P} (СГС)$$ "
   ]
  },
  {
   "cell_type": "markdown",
   "metadata": {},
   "source": [
    "\\begin{aligned}\\mathbf {H} (\\mathbf {r} ,t)&={\\frac {1}{\\mu _{0}}}\\mathbf {B} (\\mathbf {r} ,t)-\\mathbf {M} (\\mathbf {r} ,t)\\end{aligned}"
   ]
  },
  {
   "cell_type": "markdown",
   "metadata": {},
   "source": [
    "For materials without polarisation and magnetisation, the constitutive relations are (by definition)\n",
    "$$\\mathbf {D} =\\varepsilon _{0}\\mathbf {E} \\\\\\mathbf {H} ={\\frac {1}{\\mu _{0}}}\\mathbf {B}$$"
   ]
  },
  {
   "cell_type": "markdown",
   "metadata": {},
   "source": [
    "### Maxwell's equations (макроскопическое и микроскопическое описание)"
   ]
  },
  {
   "cell_type": "markdown",
   "metadata": {},
   "source": [
    "In a region with no charges (ρ = 0) and no currents (<b>J</b> = <b>0</b>), such as in a vacuum, Maxwell's equations reduce to (CИ?):\n",
    "\n",
    "\n",
    "\\begin{aligned}\\nabla \\cdot \\mathbf {E} &=0\\quad &\\nabla \\times \\mathbf {E} &=-{\\frac {\\partial \\mathbf {B} }{\\partial t}},\\\\\\nabla \\cdot \\mathbf {B} &=0\\quad &\\nabla \\times \\mathbf {B} &={\\frac {1}{c^{2}}}{\\frac {\\partial \\mathbf {E} }{\\partial t}}.\\end{aligned}"
   ]
  },
  {
   "cell_type": "markdown",
   "metadata": {},
   "source": [
    "### Maxwell's equations in matter (SI)"
   ]
  },
  {
   "cell_type": "markdown",
   "metadata": {},
   "source": [
    "\\begin{aligned}\\nabla \\cdot \\mathbf {D} &=\\rho _{\\text{f}} \\quad &\\nabla \\times \\mathbf {E} &=-{\\frac {\\partial\\mathbf {B} }{\\partial t}} \\\\\\nabla \\cdot \\mathbf {B} &=0 \\quad &\\nabla \\times \\mathbf {H} &=\\mathbf {J} _{\\text{f}}+{\\frac {\\partial \\mathbf {D} }{\\partial t}}\\end{aligned}\n",
    "\n"
   ]
  },
  {
   "cell_type": "markdown",
   "metadata": {},
   "source": [
    "Correspondingly, the total current density J splits into free $J_{f}$ and bound $J_{b}$ components, and similarly the total charge density ρ splits into free $ρ_{f}$ and bound $ρ_{b}$ parts."
   ]
  },
  {
   "cell_type": "markdown",
   "metadata": {},
   "source": [
    "NOTE:\n",
    "<font color='orange'>Free current is indeed produced by free charges, but zero charge density does not correspond to an absence of free charges.\n",
    "Whenever you have identical positive and negative free charge densities, the free charge density is zero. Positive and negative free charges can move independently of each other in such a way that the total charge density is zero everywhere (think about a loop of wire, with electrons traveling around the loop with constant drift velocity). When they do this, they create a free current, even when the free charge density is zero.</font> \n",
    " <font color='blue'>Good answer. Just a note: I think that in order to avoid confusion you need to be slightly more specific when you say that Whenever you have as many free positive charges as free negative charges, the free charge density is zero. An electric dipole has as many positive as negative charges, but the charge density is not 0.</font>"
   ]
  },
  {
   "cell_type": "markdown",
   "metadata": {},
   "source": [
    "The cost of this factorization is that additional fields, the displacement field D and the magnetizing field H, are defined and need to be determined. Phenomenological constituent equations relate the additional fields to the electric field E and the magnetic B-field, often through a simple linear relation."
   ]
  },
  {
   "cell_type": "markdown",
   "metadata": {},
   "source": [
    "### Stop"
   ]
  },
  {
   "cell_type": "markdown",
   "metadata": {},
   "source": [
    "### Magnetic vector potential"
   ]
  },
  {
   "cell_type": "markdown",
   "metadata": {},
   "source": [
    "The magnetic vector potential <b>A</b> is a vector field, defined along with the electric potential ϕ (a scalar field) by the equations:\n",
    " $\\mathbf {B} =\\nabla \\times \\mathbf {A} \\,,\\quad \\mathbf {E} =-\\nabla \\phi -{\\frac {\\partial \\mathbf {A} }{\\partial t}}$"
   ]
  },
  {
   "cell_type": "markdown",
   "metadata": {},
   "source": [
    "The Coulomb gauge (also known as the transverse gauge) is used in quantum chemistry and condensed matter physics and is defined by the gauge condition (more precisely, gauge fixing condition)\n",
    "\n",
    "$\\nabla \\cdot {\\mathbf {A} }(\\mathbf {r} ,t)=0$"
   ]
  },
  {
   "cell_type": "markdown",
   "metadata": {},
   "source": [
    "If the transformation\n",
    "\n",
    "$\\mathbf {A} \\rightarrow \\mathbf {A} +\\nabla \\psi$\n",
    " "
   ]
  },
  {
   "cell_type": "markdown",
   "metadata": {},
   "source": [
    "invariant to be continued... "
   ]
  },
  {
   "cell_type": "code",
   "execution_count": null,
   "metadata": {},
   "outputs": [],
   "source": []
  }
 ],
 "metadata": {
  "kernelspec": {
   "display_name": "Python 3",
   "language": "python",
   "name": "python3"
  },
  "language_info": {
   "codemirror_mode": {
    "name": "ipython",
    "version": 3
   },
   "file_extension": ".py",
   "mimetype": "text/x-python",
   "name": "python",
   "nbconvert_exporter": "python",
   "pygments_lexer": "ipython3",
   "version": "3.6.2rc1"
  }
 },
 "nbformat": 4,
 "nbformat_minor": 2
}
