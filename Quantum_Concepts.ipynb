{
 "cells": [
  {
   "cell_type": "markdown",
   "metadata": {},
   "source": [
    "The cross product and the dot product are related by:\n",
    "\n",
    "$$\\left\\|\\mathbf {a} \\times \\mathbf {b} \\right\\|^{2}=\\left\\|\\mathbf {a} \\right\\|^{2}\\left\\|\\mathbf {b} \\right\\|^{2}-(\\mathbf {a} \\cdot \\mathbf {b} )^{2}$$"
   ]
  },
  {
   "cell_type": "markdown",
   "metadata": {},
   "source": [
    "Vector Potential for uniform magnetic field\n",
    "\n",
    "http://nptel.ac.in/courses/115101005/downloads/lectures-doc/Lecture-25.pdf"
   ]
  },
  {
   "cell_type": "markdown",
   "metadata": {},
   "source": [
    "Gauge\n",
    "\n",
    "http://web.mit.edu/sahughes/www/8.022/lec13.pdf"
   ]
  },
  {
   "cell_type": "markdown",
   "metadata": {},
   "source": [
    "\n",
    "$$\\mathbf {B} =\\nabla \\times \\mathbf {A} \\,,\\quad \\mathbf {E} =-\\nabla \\phi -{\\frac {\\partial \\mathbf {A} }{\\partial t}}$$"
   ]
  },
  {
   "cell_type": "markdown",
   "metadata": {},
   "source": [
    "http://web.hep.uiuc.edu/home/serrede/P435/Lecture_Notes/P435_Lect_16.pdf"
   ]
  },
  {
   "cell_type": "markdown",
   "metadata": {},
   "source": [
    "Shr/equation (magnetic field)\n",
    "\n",
    "https://www.tcm.phy.cam.ac.uk/~bds10/aqp/handout_charged.pdf"
   ]
  },
  {
   "cell_type": "markdown",
   "metadata": {},
   "source": [
    "# Time-dependent perturbation theory"
   ]
  },
  {
   "cell_type": "markdown",
   "metadata": {},
   "source": [
    "http://www.nyu.edu/classes/tuckerman/stat.mechII/lectures/lecture_21/node3.html"
   ]
  },
  {
   "cell_type": "markdown",
   "metadata": {},
   "source": [
    "## The interaction picture"
   ]
  },
  {
   "cell_type": "markdown",
   "metadata": {},
   "source": [
    "Consider a quantum system described by a time-dependent Hamiltonian of the form \n",
    "\n",
    "${\\rm H}(t) = {\\rm H}_0 + {\\rm H}_1(t)$"
   ]
  },
  {
   "cell_type": "markdown",
   "metadata": {},
   "source": [
    "We now seek a solution to the time-dependent Schrödinger equation \n",
    "\n",
    "${\\rm H}(t)\\vert\\Psi(t)\\rangle = ({\\rm H}_0 + {\\rm H}_1(t))\\vert\\Psi(t)\\rangle = i\\hbar{\\partial \\over \\partial t}\\vert\\Psi(t)\\rangle$ <font color = \"red\">(#)</font>"
   ]
  },
  {
   "cell_type": "markdown",
   "metadata": {},
   "source": [
    "\n",
    "In order to solve the equation, we introduce a new state vector $\\vert\\Phi(t)\\rangle$ related to $\\vert\\Psi(t)\\rangle$ by\n",
    "\n",
    " <font color=\"blue\"> $\\vert\\Psi(t)\\rangle = e^{-i{\\rm H}_0(t-t_0)}\\vert\\Phi(t)\\rangle$</font>  - <font color=\"green\"> Shrodinger wavefunction</font>"
   ]
  },
  {
   "cell_type": "markdown",
   "metadata": {},
   "source": [
    "However, as we will see shortly, in the interaction picture, both <font color=\"blue\">the state vector and the operators evolve in time </font>, however, the time-evolution is determined by the perturbation ${\\rm H}_1(t)$."
   ]
  },
  {
   "cell_type": "markdown",
   "metadata": {},
   "source": [
    "If ${\\rm A}$ denotes an operator in the Schrödinger picture, its representation in the interaction picture is given by <font color = \"blue\">(&)</font>\n",
    "$${\\rm A}_I(t) = e^{i{\\rm H}_0(t-t_0)/\\hbar}{\\rm A}e^{-i{\\rm H}_0(t-t_0)/\\hbar}$$, why ?"
   ]
  },
  {
   "cell_type": "markdown",
   "metadata": {},
   "source": [
    "${d{\\rm A}_I(t) \\over dt} = {1 \\over i\\hbar}[{\\rm A}_I(t),{\\rm H}_0]$ <font color = \"green\">//Just explicitly substitute $A_I$ into the equation </font>, $A$ time-dependent?"
   ]
  },
  {
   "cell_type": "markdown",
   "metadata": {},
   "source": [
    "Substitution of Eqn. <font color = \"red\">(#)</font> into the time-dependent Schrödinger equation yields \n",
    "\n",
    "$\\left({\\rm H}_0+{\\rm H}_1(t)\\right)e^{-i{\\rm H}_0(t-t_0)/\\hbar}\\vert\\Phi(t)\\rangle$ \t$\\textstyle =$ \t$\\displaystyle {\\rm H}_0e^{-i{\\rm H}_0(t-t_0)/\\hbar}\\vert\\Phi(t)\\rangle + e^{-i{\\rm H}_0(t-t_0)/\\hbar} i\\hbar{\\partial \\over \\partial t}\\vert\\Phi(t)\\rangle$"
   ]
  },
  {
   "cell_type": "markdown",
   "metadata": {},
   "source": [
    "$\\displaystyle {\\rm H}_1(t)e^{-iH_0(t-t_0)/\\hbar}\\vert\\Phi(t)\\rangle$ \t$\\textstyle =$ \t$\\displaystyle e^{-iH_0(t-t_0)/\\hbar}i\\hbar{\\partial \\over \\partial t}\\vert\\Phi(t)\\rangle$"
   ]
  },
  {
   "cell_type": "markdown",
   "metadata": {},
   "source": [
    "$\\displaystyle e^{iH_0(t-t_0)/\\hbar}{\\rm H}_1(t)e^{-iH_0(t-t_0)/\\hbar}\\vert\\Phi(t)\\rangle$ \t$\\textstyle =$ \t$\\displaystyle i\\hbar{\\partial \\over \\partial t}\\vert\\Phi(t)\\rangle$ "
   ]
  },
  {
   "cell_type": "markdown",
   "metadata": {},
   "source": [
    "According to Eqn.<font color = \"blue\">(&)</font>, the $\\exp[i{\\rm H}_0(t-t_0)/\\hbar]{\\rm H}_1(t)\\exp[-i{\\rm H}_0(t-t_0)/\\hbar]$ is the interaction-picture representation of the perturbation Hamiltonian, and we will denote this operator as $H_I(t)$"
   ]
  },
  {
   "cell_type": "markdown",
   "metadata": {},
   "source": [
    "<font color = \"blue\">$H_I(t)\\vert\\Phi(t)\\rangle = i\\hbar{\\partial \\over \\partial t}\\vert\\Phi(t)\\rangle$</font>\n",
    "<font color = \"red\"> (6i) </font>"
   ]
  },
  {
   "cell_type": "markdown",
   "metadata": {},
   "source": [
    "The initial condition to the last eqn. is $\\vert\\Phi(t_0)\\rangle$ and also is $\\vert\\Psi(t_0)\\rangle$"
   ]
  },
  {
   "cell_type": "markdown",
   "metadata": {},
   "source": [
    "# Iterative solution for the interaction-picture state vector"
   ]
  },
  {
   "cell_type": "markdown",
   "metadata": {},
   "source": [
    "The solution to the last eqn. can be expressed in terms of a unitary propagator $U_I(t;t_0)$, the interaction-picture propagator, which evolves the initial state $\\vert\\Phi(t_0)\\rangle$ according to "
   ]
  },
  {
   "cell_type": "markdown",
   "metadata": {},
   "source": [
    "<font color = \"blue\">$$ \\vert\\Phi(t)\\rangle = U_I(t;t_0)\\vert\\Phi(t_0)\\rangle = U_I(t;t_0)\\vert\\Psi(t_0)\\rangle$$</font>\n",
    "<font color = \"red\"> (7i) </font>"
   ]
  },
  {
   "cell_type": "markdown",
   "metadata": {},
   "source": [
    "Substitution of Eqn. (7) into Eqn. (6) yields an evolution equation for the propagator $U_I(t;t_0)$: "
   ]
  },
  {
   "cell_type": "markdown",
   "metadata": {},
   "source": [
    "$H_I(t)U_I(t;t_0) = i\\hbar{\\partial \\over \\partial t}U_I(t;t_0)$\n",
    "<font color = \"red\"> (8i) </font>"
   ]
  },
  {
   "cell_type": "markdown",
   "metadata": {},
   "source": [
    "<b>How was wavefunction removed??? Or is it easy</b>"
   ]
  },
  {
   "cell_type": "markdown",
   "metadata": {},
   "source": [
    "The initial condition on Eqn. (8) is $U_I(t_0;t_0) = I$ (Check the defenition). In developing a solution to Eqn. (8), we assume that $H_I(t)$ is a <font color = \"red\"> small perturbation </font>\n",
    ", so that the solution can take the form of a <font color = \"red\"> sum of powers(???) </font> of $H_I(t)$. "
   ]
  },
  {
   "cell_type": "markdown",
   "metadata": {},
   "source": [
    "<font color = \"blue\"> $\\displaystyle U_I(t;t_0)$ \t$\\textstyle =$ \t$\\displaystyle U_I(t_0;t_0) - {i \\over \\hbar}\\int_{t_0}^t\\;dt'\\;H_I(t')U_I(t';t_0)$ </font>"
   ]
  },
  {
   "cell_type": "markdown",
   "metadata": {},
   "source": [
    "<font color = \"blue\"> $\\textstyle =$ \t$\\displaystyle I - {i \\over \\hbar}\\int_{t_0}^t\\;dt'\\;H_I(t')U_I(t';t_0)$</font>    \n",
    "<font color = \"red\"> (9i) </font>\n",
    "\n",
    "<font color = \"green\"> It is just usual integration  </font>\n",
    "\n",
    "\n",
    "<font color = \"red\"> Why do we not use simple integration instead of a sum of powers?</font>"
   ]
  },
  {
   "cell_type": "markdown",
   "metadata": {},
   "source": [
    "<font color = \"blue\">It is straightforward to verify this form solution for $U_I(t;t_0)$. Computing the time derivative of both sides gives </font>"
   ]
  },
  {
   "cell_type": "markdown",
   "metadata": {},
   "source": [
    "$\\displaystyle i\\hbar{\\partial \\over \\partial t}U_I(t;t_0)$ \t$\\textstyle =$ \t$\\displaystyle -i\\hbar{i \\over \\hbar} {\\partial \\over \\partial t}\\int_{t_0}^t\\;dt'\\;H_I(t')U_I(t';t_0)$\n",
    "\n",
    "\n",
    "$\\textstyle =$ \t$\\displaystyle H_I(t)U_I(t;t_0)$\n",
    "\n",
    "\n",
    "The implicit nature of the integral equation means that an iterative procedure based on the assumption that $H_I(t)$ is a <font color = \"blue\">small perturbation</font> can be easily developed"
   ]
  },
  {
   "cell_type": "markdown",
   "metadata": {},
   "source": [
    "We start with a zeroth-order solution by setting $H_I(t)=0$ in Eqn. (9), which gives the trivial result \n",
    "\n",
    "$U_I^{(0)}(t;t_0) = I$\n",
    "\n",
    "<font color = \"red\"> (11i) </font>"
   ]
  },
  {
   "cell_type": "markdown",
   "metadata": {},
   "source": [
    "This solution is now fed back into the right side of Eqn. (9) to develop a first-order solution: \n",
    "\n",
    "<font color = \"blue\">$\\displaystyle U_I^{(1)}(t;t_0)$ \t$\\textstyle =$ \t$\\displaystyle I - {i \\over \\hbar}\\int_{t_0}^t\\;dt'\\;H_I(t')U_I^{(0)}(t';t_0)$\n",
    "\n",
    "$\\textstyle =$ \t$\\displaystyle I - {i \\over \\hbar}\\int_{t_0}^t\\;dt'\\;H_I(t')$</font>"
   ]
  },
  {
   "cell_type": "markdown",
   "metadata": {},
   "source": [
    "The first order solution is fed back into the right side of Eqn. (9) to develop a second-order solution: \n",
    "\n",
    "<font color = \"blue\">$\\displaystyle U^{(2)}(t;t_0)$ \t$\\textstyle =$ \t$\\displaystyle I - {i \\over \\hbar}\\int_{t_0}^t\\;dt'\\;H_I(t')U_I^{(1)}(t';t_0)$\n",
    "                                                                                                                      \n",
    "$\\textstyle =$ \t$\\displaystyle I - {i \\over \\hbar}\\int_{t_0}^t\\;dt'\\;H_I(t') + \\left({i \\over \\hbar}\\right)^2\\int_{t_0}^t\\;dt'\\;\\int_{t_0}^{t'}\\;dt''\\; H_I(t')H_I(t'')$</font>"
   ]
  },
  {
   "cell_type": "markdown",
   "metadata": {},
   "source": [
    "$k$th-order solution is always generated from the $(k-1)$st-order solution according to the recursion formula\n",
    "\n",
    "<font color = \"blue\">$U^{(k)}(t;t_0) = I - {i \\over \\hbar}\\int_{t_0}^t\\;dt'\\;H_I(t')U_I^{(k-1)}(t';t_0)$</font>"
   ]
  },
  {
   "cell_type": "markdown",
   "metadata": {},
   "source": [
    "Thus, the third-order solution is given by "
   ]
  },
  {
   "cell_type": "markdown",
   "metadata": {},
   "source": [
    "$\\displaystyle U^{(3)}(t;t_0)$ \t$\\textstyle =$ \t$\\displaystyle I - {i \\over \\hbar}\\int_{t_0}^t\\;dt'\\;H_I(t') + \\left({i \\over \\hbar}\\right)^2\\int_{t_0}^t\\;dt'\\;\\int_{t_0}^{t'}\\;dt''\\; H_I(t')H_I(t'')$\n",
    "\n",
    "$\\textstyle -$ \t$\\displaystyle \\left({i \\over \\hbar}\\right)^3 \\int_{t_0}^t\\;dt'\\;\\int_{t_0}^{t'}\\;dt''\\;\\int_{t_0}^{t''}\\;dt'''\\; H_I(t')H_I(t'')H_I(t''')$"
   ]
  },
  {
   "cell_type": "markdown",
   "metadata": {},
   "source": [
    "The exact solution is then just a sum of the solutions obtained at each order: "
   ]
  },
  {
   "cell_type": "markdown",
   "metadata": {},
   "source": [
    "<font color = \"blue\">\\begin{equation}\n",
    "U_I(t;t_0) = \\sum_{k=0}^{\\infty}\n",
    "\\left(-1\\right)^k \\left({i\\over \\hbar}\\right)^k\n",
    "\\int_{t_0}^t\\;dt'\\;\\int_{t_0}^{t'}\\;dt''\\;\n",
    "\\cdots\\int_{t_0}^{t^{(k-1)}}\\;dt^{(k)}\\;H_I(t')H_I(t'')\\cdots H_I(t^{(k)})\n",
    "\\end{equation}</font>"
   ]
  },
  {
   "cell_type": "markdown",
   "metadata": {},
   "source": [
    " Having seen how to generate a solution for the propagator in the interaction picture to arbitrarily high orders in the perturbation, the time evolution of the state vector $\\vert\\Phi(t)\\rangle$ in the interaction picture can be determined from\n",
    " \\begin{equation}\n",
    "|\\Phi(t)\\rangle = U_I(t;t_0)|\\Phi(t_0)\\rangle\n",
    "\\end{equation}"
   ]
  },
  {
   "cell_type": "markdown",
   "metadata": {},
   "source": [
    "and from this expression, the time evolution of the original state vector $\\vert\\Psi(t)\\rangle$ in the Schrödinger picture can be determined (from the defenition)"
   ]
  },
  {
   "cell_type": "markdown",
   "metadata": {},
   "source": [
    " \\begin{eqnarray}\n",
    "|\\Psi(t)\\rangle & = & e^{-iH_0(t-t_0)/\\hbar}|\\Phi(t)\\rangle\n",
    "\\nonumber \\\\\n",
    "& = & e^{-iH_0(t-t_0)/\\hbar}U_I(t;t_0)|\\Phi(t_0)\\rangle\n",
    "\\nonumber \\\\\n",
    "& = & e^{-iH_0(t-t_0)/\\hbar}U_I(t;t_0)|\\Psi(t_0)\\rangle\n",
    "\\nonumber \\\\\n",
    "& \\equiv & U(t;t_0)|\\Psi(t_0)\\rangle\n",
    "\\end{eqnarray}"
   ]
  },
  {
   "cell_type": "markdown",
   "metadata": {},
   "source": [
    "where we have used the fact that $\\vert\\Phi(t_0)\\rangle = \\vert\\Psi(t_0)\\rangle$ and, in the last line, the full propagator in the Schrödinger picture is identified as\n",
    "<font color = \"blue\">\n",
    "\\begin{equation}\n",
    "U(t;t_0) = e^{-iH_0(t-t_0)/\\hbar}U_I(t;t_0)\n",
    "\\end{equation}\n",
    "</font>\n",
    "\n",
    "<font color = \"red\">(19i)</font>"
   ]
  },
  {
   "cell_type": "markdown",
   "metadata": {},
   "source": [
    "From Eqn. (19), the structure of the full propagator for the time-dependent system reveals itself. Let us use Eqn. (19) to generate the first few lowest order terms in the propagator. Substituting Eqn. (11) into Eqn. (19) yields the lowest order contribution to $U(t;t_0)$: "
   ]
  },
  {
   "cell_type": "markdown",
   "metadata": {},
   "source": [
    "<font color = \"green\">\n",
    "\\begin{equation}\n",
    "U^{(0)}(t;t_0) = e^{-iH_0(t-t_0)/\\hbar}= U_0(t;t_0)\n",
    "\\end{equation}\n",
    "</font>\n",
    "<font color = \"red\">(20i)</font>"
   ]
  },
  {
   "cell_type": "markdown",
   "metadata": {},
   "source": [
    "Thus, at zeroth order, Eqn. (20) implies that the system is to be propagated using the unperturbed propagator $U_0(t;t_0)$ as if the perturbation did not exist. At first order, we obtain "
   ]
  },
  {
   "cell_type": "markdown",
   "metadata": {},
   "source": [
    "<font color = \"green\">\n",
    "\\begin{eqnarray}\n",
    "U^{(1)}(t;t_0) & = & e^{-iH_0(t-t_0)/\\hbar}- {i\\over\\hbar}e^{-iH_0(t-t_0)/\\hbar}\\int_{t_0}^t\\;dt'\\;H_I(t')\n",
    "\\nonumber \\\\\n",
    "& = & e^{-iH_0(t-t_0)/\\hbar}- {i \\over \\hbar}e^{-iH_0(t-t_0)/\\hbar}\\int_{t_0}^t\\;dt'e^{-iH_0(t'-t_0)/\\hbar}{\\rm H}_1(t')e^{-iH_0(t'-t_0)/\\hbar}\n",
    "\\nonumber \\\\\n",
    "& = & e^{-iH_0(t-t_0)/\\hbar}- {i \\over \\hbar}\\int_{t_0}^t\\;dt'\\;e^{-iH_0(t-t')/\\hbar}{\\rm H}_1(t')e^{-iH_0(t'-t_0)/\\hbar}\n",
    "\\nonumber \\\\\n",
    "& = & U_0(t;t_0) - {i \\over \\hbar}\\int_{t_0}^t\\;dt'\\;U_0(t;t'){\\rm H}_1(t')U_0(t';t_0)\n",
    "\\end{eqnarray}\n",
    "</font>\n",
    "\n",
    "<font color = \"red\">\n",
    "(21i)    \n",
    "</font>"
   ]
  },
  {
   "cell_type": "markdown",
   "metadata": {},
   "source": [
    "where, in the second line, the definition of $H_I(t)$ in terms of the original perturbation Hamiltonian ${\\rm H}_1(t)$ has been used"
   ]
  },
  {
   "cell_type": "markdown",
   "metadata": {},
   "source": [
    "<font color = \"orange\">\n",
    "What Eqn. (21) says is that at first order, the propagator is composed of two terms. The first term is simply the unperturbed propagation from $t_0$ to $t$. In the second term, the system undergoes unperturbed propagation from $t_0$ to $t'$ and at $t'$, the perturbation ${\\rm H}_1(t')$ is allowed to act. From $t'$ to $t$, the system undergoes unperturbed propagation. Finally, we need to integrate over all possible intermediate times $t'$. \n",
    "</font>"
   ]
  },
  {
   "cell_type": "markdown",
   "metadata": {},
   "source": [
    "In a similar manner, it can be shown that up to second order, the full propagator is given by "
   ]
  },
  {
   "cell_type": "markdown",
   "metadata": {},
   "source": [
    "\\begin{eqnarray}\n",
    "U^{(2)}(t;t_0) & = & U_0(t;t_0) - {i \\over \\hbar}\n",
    "\\int_{t_0}^t\\;d'\\;U_0(t;t'){\\rm H}_1(t')U_0(t';t_0)\n",
    "\\nonumber \\\\\n",
    "& + & \\left({i \\over \\hbar}\\right)^2\n",
    "\\int_{t_0}^t\\;dt'\\;\\int_{t_0}^{t'}\\;dt''\\;\n",
    "U_0(t;t'){\\rm H}_1(t')U_0(t';t''){\\rm H}_1(t'')U_0(t'';t_0)\n",
    "\\end{eqnarray}"
   ]
  },
  {
   "cell_type": "markdown",
   "metadata": {},
   "source": [
    "The picture on the left side of the equation indicates that the perturbation causes the system to undergo some undetermined dynamical process between $t_0$ and $t$. The terms on the right show how that process is broken down in terms of the action of the perturbation ${\\rm H}_1$ at specific intermediate times. At the $k$th order, the perturbation Hamiltonian ${\\rm H}_1$ acts on the system at $k$ specific instances in time. Because of the limits of integration, these time instances are ordered chronologically. "
   ]
  },
  {
   "cell_type": "markdown",
   "metadata": {},
   "source": [
    "{\\mathcal {T}}\\left\\{A(x)B(y)\\right\\}:=\n",
    "{\\begin{cases}A(x)B(y)&amp;{\\text{if }}\\tau _{x}&gt;\\tau _{y},\\\\\\pm B(y)A(x)&amp;{\\text{if }}\\tau _{x}&lt;\\tau _{y}.\\end{cases}}}\n",
    "\n",
    "$ {\\mathcal {T}}\\left\\{A(x)B(y)\\right\\}:=\\theta (\\tau _{x}-\\tau _{y})A(x)B(y)\\pm \\theta (\\tau _{y}-\\tau _{x})B(y)A(x)$\n",
    "//check Wiki time-ordered operator"
   ]
  },
  {
   "cell_type": "code",
   "execution_count": 24,
   "metadata": {},
   "outputs": [
    {
     "ename": "SyntaxError",
     "evalue": "invalid syntax (<ipython-input-24-dbf8fc50bc1a>, line 1)",
     "output_type": "error",
     "traceback": [
      "\u001b[0;36m  File \u001b[0;32m\"<ipython-input-24-dbf8fc50bc1a>\"\u001b[0;36m, line \u001b[0;32m1\u001b[0m\n\u001b[0;31m    Finish it\u001b[0m\n\u001b[0m            ^\u001b[0m\n\u001b[0;31mSyntaxError\u001b[0m\u001b[0;31m:\u001b[0m invalid syntax\n"
     ]
    }
   ],
   "source": [
    "Finish it"
   ]
  },
  {
   "cell_type": "code",
   "execution_count": null,
   "metadata": {},
   "outputs": [],
   "source": []
  }
 ],
 "metadata": {
  "kernelspec": {
   "display_name": "Python 3",
   "language": "python",
   "name": "python3"
  },
  "language_info": {
   "codemirror_mode": {
    "name": "ipython",
    "version": 3
   },
   "file_extension": ".py",
   "mimetype": "text/x-python",
   "name": "python",
   "nbconvert_exporter": "python",
   "pygments_lexer": "ipython3",
   "version": "3.6.2rc1"
  }
 },
 "nbformat": 4,
 "nbformat_minor": 2
}
